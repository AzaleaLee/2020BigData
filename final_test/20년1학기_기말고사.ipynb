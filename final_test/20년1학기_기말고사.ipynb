{
  "nbformat": 4,
  "nbformat_minor": 0,
  "metadata": {
    "colab": {
      "name": "20년1학기-기말고사.ipynb",
      "provenance": [],
      "collapsed_sections": []
    },
    "kernelspec": {
      "name": "python3",
      "display_name": "Python 3"
    }
  },
  "cells": [
    {
      "cell_type": "markdown",
      "metadata": {
        "id": "USdoQTkkAfiU",
        "colab_type": "text"
      },
      "source": [
        "# 2020년 1학기 기말시험"
      ]
    },
    {
      "cell_type": "markdown",
      "metadata": {
        "id": "Yg0l6Iz-NbQX",
        "colab_type": "text"
      },
      "source": [
        "# 이름 : 이정인\n",
        "\n",
        "1.   융합IT\n",
        "2.   17681024\n",
        "\n"
      ]
    },
    {
      "cell_type": "markdown",
      "metadata": {
        "id": "dde2pQdBKaXE",
        "colab_type": "text"
      },
      "source": [
        "https://colab.research.google.com/에 import하여 셀에 답을 적고 RUN하십시오. 출력한 결과에 따라 스코어링됩니다."
      ]
    },
    {
      "cell_type": "markdown",
      "metadata": {
        "id": "vytowRjHlN1F",
        "colab_type": "text"
      },
      "source": [
        "Q1. CNN 신경망에서 2D 컨볼루션 레이어를 거친 행렬의 값을 파이썬 array형태로 적으시오. 계산을 위해 계산기앱 또는 액셀을 사용해도 좋습니다.\n"
      ]
    },
    {
      "cell_type": "code",
      "metadata": {
        "id": "vO3cm719mB64",
        "colab_type": "code",
        "colab": {
          "base_uri": "https://localhost:8080/",
          "height": 134
        },
        "outputId": "6f9da587-db58-4a27-bb73-584a77a56aa8"
      },
      "source": [
        "# 문제\n",
        "import numpy as np\n",
        "\n",
        "x = [[1,2,3],\n",
        "     [4,5,6],\n",
        "     [7,8,9]]\n",
        "     \n",
        "kernel W =[[0,1],\n",
        "          [1,0]]\n",
        "\n",
        "Padding = VALID\n",
        "\n",
        "#convolution을 한 결과를 행렬 y로 하여 print(y)로 출력하시오.\n",
        "\n",
        "y= np.array(x)  # 여러분의 answer를 파이썬 어레이로 적고 Run하시오.\n",
        "print(y)"
      ],
      "execution_count": 1,
      "outputs": [
        {
          "output_type": "error",
          "ename": "SyntaxError",
          "evalue": "ignored",
          "traceback": [
            "\u001b[0;36m  File \u001b[0;32m\"<ipython-input-1-fc99cfbfd683>\"\u001b[0;36m, line \u001b[0;32m8\u001b[0m\n\u001b[0;31m    kernel W =[[0,1],\u001b[0m\n\u001b[0m           ^\u001b[0m\n\u001b[0;31mSyntaxError\u001b[0m\u001b[0;31m:\u001b[0m invalid syntax\n"
          ]
        }
      ]
    },
    {
      "cell_type": "markdown",
      "metadata": {
        "id": "ntyM0f5Rgq5t",
        "colab_type": "text"
      },
      "source": [
        "Q2, 아래의 Confusion Matrix를 보고 질문에 답하시오"
      ]
    },
    {
      "cell_type": "code",
      "metadata": {
        "id": "cjqJY4QkYg55",
        "colab_type": "code",
        "outputId": "ed4f4843-8438-46d1-a61e-1464d345fe70",
        "colab": {
          "base_uri": "https://localhost:8080/",
          "height": 314
        }
      },
      "source": [
        "# 문제 : 아래의 혼동행렬을 보고 TPR과 FNR을 계산하시오. 단 계산하는 공식을 파이썬으로 코딩하여 값을 구하시오.\n",
        "# 혼동행렬의 row는 실제값, column은 예측값, (1,1)이 True & Positive\n",
        "# 정의 : TPR = True Postive rate, FNR = False Negative rate\n",
        "import seaborn as sn\n",
        "import pandas as pd\n",
        "import matplotlib.pyplot as plt\n",
        "import numpy as np\n",
        "\n",
        "array = np.array([[850,6],\n",
        "                  [50,94]])         \n",
        "\n",
        "sn.set(font_scale=2.0) # for label size\n",
        "sn.heatmap(array, annot=True, annot_kws={\"size\": 18}, fmt='d') # font size\n",
        "\n",
        "plt.show()"
      ],
      "execution_count": 2,
      "outputs": [
        {
          "output_type": "stream",
          "text": [
            "/usr/local/lib/python3.6/dist-packages/statsmodels/tools/_testing.py:19: FutureWarning: pandas.util.testing is deprecated. Use the functions in the public API at pandas.testing instead.\n",
            "  import pandas.util.testing as tm\n"
          ],
          "name": "stderr"
        },
        {
          "output_type": "display_data",
          "data": {
            "image/png": "[encoded data removed]",
            "text/plain": [
              "<Figure size 432x288 with 2 Axes>"
            ]
          },
          "metadata": {
            "tags": []
          }
        }
      ]
    },
    {
      "cell_type": "code",
      "metadata": {
        "id": "1cwqB8OwUa36",
        "colab_type": "code",
        "outputId": "7891e767-4b3b-40cd-9a1e-f4256cfa5b12",
        "colab": {
          "base_uri": "https://localhost:8080/",
          "height": 34
        }
      },
      "source": [
        "# Q2.1 TPR=?  아래에 계산식을 쓰고 Run 시키시오\n",
        "# 여러분의 코드 \n",
        "array = np.array(array)\n",
        "tpr=array[0,0]/(array[0,0]+array[0,1])\n",
        "print('TPR값은 ', tpr)"
      ],
      "execution_count": 3,
      "outputs": [
        {
          "output_type": "stream",
          "text": [
            "TPR값은  0.9929906542056075\n"
          ],
          "name": "stdout"
        }
      ]
    },
    {
      "cell_type": "code",
      "metadata": {
        "id": "BzOe-Zgqkgdc",
        "colab_type": "code",
        "colab": {
          "base_uri": "https://localhost:8080/",
          "height": 34
        },
        "outputId": "aa55841a-879b-42e2-c171-fc8ad6cfb1bb"
      },
      "source": [
        "# Q2.2 FNR 계산을 위한 코드를 쓰고  Run하시오\n",
        "# 여러분의 코드 \n",
        "array = np.array(array)\n",
        "fnr=array[0,1]/(array[0,0]+array[0,1])\n",
        "print('FNR 값은 ', fnr)"
      ],
      "execution_count": 4,
      "outputs": [
        {
          "output_type": "stream",
          "text": [
            "FNR 값은  0.007009345794392523\n"
          ],
          "name": "stdout"
        }
      ]
    },
    {
      "cell_type": "code",
      "metadata": {
        "id": "TK_zjLxMEiVM",
        "colab_type": "code",
        "colab": {
          "base_uri": "https://localhost:8080/",
          "height": 34
        },
        "outputId": "09fe8739-e367-45fa-8e56-0c6f3be15836"
      },
      "source": [
        "#  Q2.3 accurary 계산을 위한 코드를 쓰고  Run하시오\n",
        "# 여러분의 코드\n",
        "array = np.array(array)\n",
        "acc=(array[0,0]+array[1,1])/(array[0,0]+array[1,1]+array[1,0]+array[0,1])\n",
        "print('Accuracy 값은 ', acc)"
      ],
      "execution_count": 5,
      "outputs": [
        {
          "output_type": "stream",
          "text": [
            "Accuracy 값은  0.944\n"
          ],
          "name": "stdout"
        }
      ]
    },
    {
      "cell_type": "markdown",
      "metadata": {
        "id": "yukDPytdDmt7",
        "colab_type": "text"
      },
      "source": [
        "\n",
        "Q3. 다음 신경망 다이어그램을 보고 이를 구현하기 위한 파이썬 코드를 완성하시오"
      ]
    },
    {
      "cell_type": "code",
      "metadata": {
        "id": "dbbSoyMeINdZ",
        "colab_type": "code",
        "outputId": "fe1c36ed-2970-406c-d348-cd951f9bb2a6",
        "colab": {
          "base_uri": "https://localhost:8080/",
          "height": 548
        }
      },
      "source": [
        "! wget --no-check-certificate 'https://docs.google.com/uc?export=download&id=1jGQthuWngRlgUq7masWosTq1LyzwUAS7' -O 퍼셉트론.png\n",
        "from IPython.display import Image\n",
        "Image(\"퍼셉트론.png\", width=500)  "
      ],
      "execution_count": 6,
      "outputs": [
        {
          "output_type": "stream",
          "text": [
            "--2020-06-10 05:19:57--  https://docs.google.com/uc?export=download&id=1jGQthuWngRlgUq7masWosTq1LyzwUAS7\n",
            "Resolving docs.google.com (docs.google.com)... 108.177.12.100, 108.177.12.139, 108.177.12.113, ...\n",
            "Connecting to docs.google.com (docs.google.com)|108.177.12.100|:443... connected.\n",
            "HTTP request sent, awaiting response... 302 Moved Temporarily\n",
            "Location: https://doc-0s-1s-docs.googleusercontent.com/docs/securesc/ha0ro937gcuc7l7deffksulhg5h7mbp1/drrs13nmfs4ihk01t3q9hkommlli3rp5/1591766325000/04591858293269658552/*/1jGQthuWngRlgUq7masWosTq1LyzwUAS7?e=download [following]\n",
            "Warning: wildcards not supported in HTTP.\n",
            "--2020-06-10 05:19:57--  https://doc-0s-1s-docs.googleusercontent.com/docs/securesc/ha0ro937gcuc7l7deffksulhg5h7mbp1/drrs13nmfs4ihk01t3q9hkommlli3rp5/1591766325000/04591858293269658552/*/1jGQthuWngRlgUq7masWosTq1LyzwUAS7?e=download\n",
            "Resolving doc-0s-1s-docs.googleusercontent.com (doc-0s-1s-docs.googleusercontent.com)... 172.217.203.132, 2607:f8b0:400c:c07::84\n",
            "Connecting to doc-0s-1s-docs.googleusercontent.com (doc-0s-1s-docs.googleusercontent.com)|172.217.203.132|:443... connected.\n",
            "HTTP request sent, awaiting response... 200 OK\n",
            "Length: 18076 (18K) [image/png]\n",
            "Saving to: ‘퍼셉트론.png’\n",
            "\n",
            "\r퍼셉트론.png          0%[                    ]       0  --.-KB/s               \r퍼셉트론.png        100%[===================>]  17.65K  --.-KB/s    in 0s      \n",
            "\n",
            "2020-06-10 05:19:57 (110 MB/s) - ‘퍼셉트론.png’ saved [18076/18076]\n",
            "\n"
          ],
          "name": "stdout"
        },
        {
          "output_type": "execute_result",
          "data": {
            "image/png": "[encoded data removed]",
            "text/plain": [
              "<IPython.core.display.Image object>"
            ]
          },
          "metadata": {
            "tags": [],
            "image/png": {
              "width": 500
            }
          },
          "execution_count": 6
        }
      ]
    },
    {
      "cell_type": "code",
      "metadata": {
        "id": "wN6S1IvUt6jH",
        "colab_type": "code",
        "colab": {
          "base_uri": "https://localhost:8080/",
          "height": 239
        },
        "outputId": "32561087-d8e4-48de-ece7-ac60babce085"
      },
      "source": [
        "#Q3. 위의 그림에 맞는 신경망을 코드로 설계하시오.\n",
        "import tensorflow.compat.v1 as tf1\n",
        "\n",
        "n = np.array([[0,0,1],\n",
        "             [0,1,1],\n",
        "             [1,0,1],\n",
        "             [1,1,1]]) # ?을 채우시오\n",
        "n_inputs = 3  # ?을 채우시오\n",
        "n_hidden = 2 # ?을 채우시오 \n",
        "n_outputs = n_inputs # ?을 채우시오  \n",
        "with tf1.Session() as sess:\n",
        "  X=tf1.placeholder(tf.float64, shape=(None, 3), name='X') # ?을 채우시오\n",
        "with tf.name_scope('nn'):\n",
        "  hidden = make_nn_layer('hidden', n_hidden, X, activation=tf.nn.relu) # ?을 채우시오\n",
        "  outputs = make_nn_layer('outputs', n_outputs, hidden1) # ?을 채우시오\n"
      ],
      "execution_count": 7,
      "outputs": [
        {
          "output_type": "error",
          "ename": "NameError",
          "evalue": "ignored",
          "traceback": [
            "\u001b[0;31m---------------------------------------------------------------------------\u001b[0m",
            "\u001b[0;31mNameError\u001b[0m                                 Traceback (most recent call last)",
            "\u001b[0;32m<ipython-input-7-004065e46e36>\u001b[0m in \u001b[0;36m<module>\u001b[0;34m()\u001b[0m\n\u001b[1;32m     10\u001b[0m \u001b[0mn_outputs\u001b[0m \u001b[0;34m=\u001b[0m \u001b[0mn_inputs\u001b[0m \u001b[0;31m# ?을 채우시오\u001b[0m\u001b[0;34m\u001b[0m\u001b[0;34m\u001b[0m\u001b[0m\n\u001b[1;32m     11\u001b[0m \u001b[0;32mwith\u001b[0m \u001b[0mtf1\u001b[0m\u001b[0;34m.\u001b[0m\u001b[0mSession\u001b[0m\u001b[0;34m(\u001b[0m\u001b[0;34m)\u001b[0m \u001b[0;32mas\u001b[0m \u001b[0msess\u001b[0m\u001b[0;34m:\u001b[0m\u001b[0;34m\u001b[0m\u001b[0;34m\u001b[0m\u001b[0m\n\u001b[0;32m---> 12\u001b[0;31m   \u001b[0mX\u001b[0m\u001b[0;34m=\u001b[0m\u001b[0mtf1\u001b[0m\u001b[0;34m.\u001b[0m\u001b[0mplaceholder\u001b[0m\u001b[0;34m(\u001b[0m\u001b[0mtf\u001b[0m\u001b[0;34m.\u001b[0m\u001b[0mfloat64\u001b[0m\u001b[0;34m,\u001b[0m \u001b[0mshape\u001b[0m\u001b[0;34m=\u001b[0m\u001b[0;34m(\u001b[0m\u001b[0;32mNone\u001b[0m\u001b[0;34m,\u001b[0m \u001b[0;36m3\u001b[0m\u001b[0;34m)\u001b[0m\u001b[0;34m,\u001b[0m \u001b[0mname\u001b[0m\u001b[0;34m=\u001b[0m\u001b[0;34m'X'\u001b[0m\u001b[0;34m)\u001b[0m \u001b[0;31m# ?을 채우시오\u001b[0m\u001b[0;34m\u001b[0m\u001b[0;34m\u001b[0m\u001b[0m\n\u001b[0m\u001b[1;32m     13\u001b[0m \u001b[0;32mwith\u001b[0m \u001b[0mtf\u001b[0m\u001b[0;34m.\u001b[0m\u001b[0mname_scope\u001b[0m\u001b[0;34m(\u001b[0m\u001b[0;34m'nn'\u001b[0m\u001b[0;34m)\u001b[0m\u001b[0;34m:\u001b[0m\u001b[0;34m\u001b[0m\u001b[0;34m\u001b[0m\u001b[0m\n\u001b[1;32m     14\u001b[0m   \u001b[0mhidden\u001b[0m \u001b[0;34m=\u001b[0m \u001b[0mmake_nn_layer\u001b[0m\u001b[0;34m(\u001b[0m\u001b[0;34m'hidden'\u001b[0m\u001b[0;34m,\u001b[0m \u001b[0mn_hidden\u001b[0m\u001b[0;34m,\u001b[0m \u001b[0mX\u001b[0m\u001b[0;34m,\u001b[0m \u001b[0mactivation\u001b[0m\u001b[0;34m=\u001b[0m\u001b[0mtf\u001b[0m\u001b[0;34m.\u001b[0m\u001b[0mnn\u001b[0m\u001b[0;34m.\u001b[0m\u001b[0mrelu\u001b[0m\u001b[0;34m)\u001b[0m \u001b[0;31m# ?을 채우시오\u001b[0m\u001b[0;34m\u001b[0m\u001b[0;34m\u001b[0m\u001b[0m\n",
            "\u001b[0;31mNameError\u001b[0m: name 'tf' is not defined"
          ]
        }
      ]
    },
    {
      "cell_type": "markdown",
      "metadata": {
        "id": "lZg0CU3IEoG-",
        "colab_type": "text"
      },
      "source": [
        "Q4. 아래의 표를 보고 Keras 코드를 완성하시오\n"
      ]
    },
    {
      "cell_type": "code",
      "metadata": {
        "id": "e78Ut02SEs6q",
        "colab_type": "code",
        "outputId": "13f60704-44db-43f0-b328-2f4a928208de",
        "colab": {
          "base_uri": "https://localhost:8080/",
          "height": 54
        }
      },
      "source": [
        "#Q4 표\n",
        "\"\"\"\n",
        "Layer (type)                 Output Shape              Param #   \n",
        "=================================================================\n",
        "conv2d_6 (Conv2D)            (None, 24, 24, 32)        832       \n",
        "_________________________________________________________________\n",
        "max_pooling2d_5 (MaxPooling2 (None, 12, 12, 32)        0         \n",
        "_________________________________________________________________\n",
        "dropout_6 (Dropout)          (None, 12, 12, 32)        0         \n",
        "_________________________________________________________________\n",
        "conv2d_7 (Conv2D)            (None, 10, 10, 64)        18496     \n",
        "_________________________________________________________________\n",
        "max_pooling2d_6 (MaxPooling2 (None, 5, 5, 64)          0         \n",
        "_________________________________________________________________\n",
        "dropout_7 (Dropout)          (None, 5, 5, 64)          0         \n",
        "_________________________________________________________________\n",
        "conv2d_8 (Conv2D)            (None, 5, 5, 128)         8320      \n",
        "_________________________________________________________________\n",
        "max_pooling2d_7 (MaxPooling2 (None, 2, 2, 128)         0         \n",
        "_________________________________________________________________\n",
        "dropout_8 (Dropout)          (None, 2, 2, 128)         0         \n",
        "_________________________________________________________________\n",
        "flatten_3 (Flatten)          (None, 512)               0         \n",
        "_________________________________________________________________\n",
        "dense_5 (Dense)              (None, 128)               65664     \n",
        "_________________________________________________________________\n",
        "dense_6 (Dense)              (None, 10)                1290      \n",
        "=================================================================\n",
        "\n",
        "\"\"\""
      ],
      "execution_count": 8,
      "outputs": [
        {
          "output_type": "execute_result",
          "data": {
            "text/plain": [
              "'\\nLayer (type)                 Output Shape              Param #   \\n=================================================================\\nconv2d_6 (Conv2D)            (None, 24, 24, 32)        832       \\n_________________________________________________________________\\nmax_pooling2d_5 (MaxPooling2 (None, 12, 12, 32)        0         \\n_________________________________________________________________\\ndropout_6 (Dropout)          (None, 12, 12, 32)        0         \\n_________________________________________________________________\\nconv2d_7 (Conv2D)            (None, 10, 10, 64)        18496     \\n_________________________________________________________________\\nmax_pooling2d_6 (MaxPooling2 (None, 5, 5, 64)          0         \\n_________________________________________________________________\\ndropout_7 (Dropout)          (None, 5, 5, 64)          0         \\n_________________________________________________________________\\nconv2d_8 (Conv2D)            (None, 5, 5, 128)         8320      \\n_________________________________________________________________\\nmax_pooling2d_7 (MaxPooling2 (None, 2, 2, 128)         0         \\n_________________________________________________________________\\ndropout_8 (Dropout)          (None, 2, 2, 128)         0         \\n_________________________________________________________________\\nflatten_3 (Flatten)          (None, 512)               0         \\n_________________________________________________________________\\ndense_5 (Dense)              (None, 128)               65664     \\n_________________________________________________________________\\ndense_6 (Dense)              (None, 10)                1290      \\n=================================================================\\n\\n'"
            ]
          },
          "metadata": {
            "tags": []
          },
          "execution_count": 8
        }
      ]
    },
    {
      "cell_type": "code",
      "metadata": {
        "id": "c2RTLEClGqlC",
        "colab_type": "code",
        "colab": {
          "base_uri": "https://localhost:8080/",
          "height": 257
        },
        "outputId": "eca11466-75ba-4718-93a7-8b5b989868a3"
      },
      "source": [
        "# Q4. 이곳에 위의 표에 맞는 딥러닝의 모델을 Keras로 코딩하십시오. 모델 부문만 작성하고 마지막에 print로 summary를 출력하십시오.\n",
        "# 가정 1 : input은 24 x 24의 흑백 이미지\n",
        "# 가정 2 : convolution layer에서 사용하는 activation function은 ReLU로 통일 \n",
        "# 가정 3 : maxpooling 시 pool_size는 2 x 2\n",
        "# 가정 4 : dropout rate는 0.5\n",
        "# 가정 5 : dense_5 layer에서 사용하는 activation function은 ReLU\n",
        "# 가정 6 : dense_6 layer에서 사용하는 activation function은 softmax\n",
        "import keras\n",
        "from keras.models import Sequential\n",
        "from keras.layers import Dense, Dropout, Flatten\n",
        "from keras.layers import Conv2D, MaxPooling2D\n",
        "from keras import backend as K\n",
        "\n",
        "mymodel = Sequential()\n",
        "input_shape = (1, 24, 24)\n",
        "model.add(Conv2D(32, \n",
        "                 kernel_size=(3, 3),\n",
        "                 activation='relu',\n",
        "                 input_shape=input_shape))\n",
        "mymodel.add(Conv2D(64, (3, 3), activation='relu'))\n",
        "mymodel.add(MaxPooling2D(pool_size=(2, 2)))\n",
        "mymodel.add(Dropout(0.5))\n",
        "mymdel.add(Flatten())\n",
        "mymodel.add(Dense(5, activation='relu'))\n",
        "mymodel.add(Dense(6, activation='softmax'))\n",
        "\n",
        "print(mymodel.summary())\n",
        "# The End"
      ],
      "execution_count": 9,
      "outputs": [
        {
          "output_type": "stream",
          "text": [
            "Using TensorFlow backend.\n"
          ],
          "name": "stderr"
        },
        {
          "output_type": "error",
          "ename": "NameError",
          "evalue": "ignored",
          "traceback": [
            "\u001b[0;31m---------------------------------------------------------------------------\u001b[0m",
            "\u001b[0;31mNameError\u001b[0m                                 Traceback (most recent call last)",
            "\u001b[0;32m<ipython-input-9-23557f21e09d>\u001b[0m in \u001b[0;36m<module>\u001b[0;34m()\u001b[0m\n\u001b[1;32m     14\u001b[0m \u001b[0mmymodel\u001b[0m \u001b[0;34m=\u001b[0m \u001b[0mSequential\u001b[0m\u001b[0;34m(\u001b[0m\u001b[0;34m)\u001b[0m\u001b[0;34m\u001b[0m\u001b[0;34m\u001b[0m\u001b[0m\n\u001b[1;32m     15\u001b[0m \u001b[0minput_shape\u001b[0m \u001b[0;34m=\u001b[0m \u001b[0;34m(\u001b[0m\u001b[0;36m1\u001b[0m\u001b[0;34m,\u001b[0m \u001b[0;36m24\u001b[0m\u001b[0;34m,\u001b[0m \u001b[0;36m24\u001b[0m\u001b[0;34m)\u001b[0m\u001b[0;34m\u001b[0m\u001b[0;34m\u001b[0m\u001b[0m\n\u001b[0;32m---> 16\u001b[0;31m model.add(Conv2D(32, \n\u001b[0m\u001b[1;32m     17\u001b[0m                  \u001b[0mkernel_size\u001b[0m\u001b[0;34m=\u001b[0m\u001b[0;34m(\u001b[0m\u001b[0;36m3\u001b[0m\u001b[0;34m,\u001b[0m \u001b[0;36m3\u001b[0m\u001b[0;34m)\u001b[0m\u001b[0;34m,\u001b[0m\u001b[0;34m\u001b[0m\u001b[0;34m\u001b[0m\u001b[0m\n\u001b[1;32m     18\u001b[0m                  \u001b[0mactivation\u001b[0m\u001b[0;34m=\u001b[0m\u001b[0;34m'relu'\u001b[0m\u001b[0;34m,\u001b[0m\u001b[0;34m\u001b[0m\u001b[0;34m\u001b[0m\u001b[0m\n",
            "\u001b[0;31mNameError\u001b[0m: name 'model' is not defined"
          ]
        }
      ]
    },
    {
      "cell_type": "markdown",
      "metadata": {
        "id": "k6z0l1F6d_SU",
        "colab_type": "text"
      },
      "source": [
        "Q5. 아래  코드가 출력하는 그래프에서 validation loss 값이 모든 epoch 구간에서 training loss 값보다 작도록  코드를 수정하시오. 현재의 그래프는 최적 상태가 아닙니다."
      ]
    },
    {
      "cell_type": "code",
      "metadata": {
        "id": "_3uvk7IVeIZs",
        "colab_type": "code",
        "outputId": "946323a6-b8ab-41a4-c579-47a3e1956ab5",
        "colab": {
          "base_uri": "https://localhost:8080/",
          "height": 1000
        }
      },
      "source": [
        "from keras.datasets import mnist\n",
        "from matplotlib import pyplot as plt\n",
        "plt.style.use('dark_background')\n",
        "from keras.models import Sequential\n",
        "from keras.layers import Dense, Flatten, Activation, Dropout\n",
        "from keras.utils import normalize, to_categorical\n",
        "\n",
        "(X_train, y_train), (X_test, y_test) = mnist.load_data()\n",
        "\n",
        "plt.imshow(X_train[0], cmap = plt.cm.binary)\n",
        "plt.show()\n",
        "\n",
        "X_train = normalize(X_train, axis=1)\n",
        "X_test = normalize(X_test, axis=1)\n",
        "y_train = to_categorical(y_train)\n",
        "y_test = to_categorical(y_test)\n",
        "\n",
        "model = Sequential()\n",
        "model.add(Flatten(input_shape=(28, 28)))\n",
        "model.add(Dense(128))\n",
        "model.add(Activation('relu'))\n",
        "model.add(Dense(128))\n",
        "model.add(Activation('relu'))\n",
        "model.add(Dense(10))\n",
        "model.add(Activation('softmax'))\n",
        "model.summary()\n",
        "\n",
        "model.compile(\n",
        "    loss='categorical_crossentropy',\n",
        "    optimizer='adam',\n",
        "    metrics=['accuracy']\n",
        ")\n",
        "history = model.fit(\n",
        "    X_train,\n",
        "    y_train,\n",
        "    epochs=10,\n",
        "    batch_size=32,\n",
        "    validation_split=0.1,\n",
        "    verbose = 1,\n",
        "    shuffle=True\n",
        ")\n",
        "\n",
        "loss = history.history['loss']\n",
        "val_loss = history.history['val_loss']\n",
        "epochs = range(1, len(loss) + 1)\n",
        "plt.plot(epochs, loss, 'y', label='Training loss')\n",
        "plt.plot(epochs, val_loss, 'r', label='Validation loss')\n",
        "plt.title('Training and validation loss')\n",
        "plt.xlabel('Epochs')\n",
        "plt.ylabel('Loss')\n",
        "plt.legend()\n",
        "plt.show()"
      ],
      "execution_count": 10,
      "outputs": [
        {
          "output_type": "stream",
          "text": [
            "Downloading data from https://s3.amazonaws.com/img-datasets/mnist.npz\n",
            "11493376/11490434 [==============================] - 0s 0us/step\n"
          ],
          "name": "stdout"
        },
        {
          "output_type": "display_data",
          "data": {
            "image/png": "[encoded data removed]",
            "text/plain": [
              "<Figure size 432x288 with 1 Axes>"
            ]
          },
          "metadata": {
            "tags": []
          }
        },
        {
          "output_type": "stream",
          "text": [
            "Model: \"sequential_2\"\n",
            "_________________________________________________________________\n",
            "Layer (type)                 Output Shape              Param #   \n",
            "=================================================================\n",
            "flatten_1 (Flatten)          (None, 784)               0         \n",
            "_________________________________________________________________\n",
            "dense_1 (Dense)              (None, 128)               100480    \n",
            "_________________________________________________________________\n",
            "activation_1 (Activation)    (None, 128)               0         \n",
            "_________________________________________________________________\n",
            "dense_2 (Dense)              (None, 128)               16512     \n",
            "_________________________________________________________________\n",
            "activation_2 (Activation)    (None, 128)               0         \n",
            "_________________________________________________________________\n",
            "dense_3 (Dense)              (None, 10)                1290      \n",
            "_________________________________________________________________\n",
            "activation_3 (Activation)    (None, 10)                0         \n",
            "=================================================================\n",
            "Total params: 118,282\n",
            "Trainable params: 118,282\n",
            "Non-trainable params: 0\n",
            "_________________________________________________________________\n",
            "Train on 54000 samples, validate on 6000 samples\n",
            "Epoch 1/10\n",
            "54000/54000 [==============================] - 5s 100us/step - loss: 0.2648 - accuracy: 0.9231 - val_loss: 0.1324 - val_accuracy: 0.9585\n",
            "Epoch 2/10\n",
            "54000/54000 [==============================] - 5s 93us/step - loss: 0.1093 - accuracy: 0.9662 - val_loss: 0.0930 - val_accuracy: 0.9710\n",
            "Epoch 3/10\n",
            "54000/54000 [==============================] - 5s 92us/step - loss: 0.0759 - accuracy: 0.9760 - val_loss: 0.0911 - val_accuracy: 0.9718\n",
            "Epoch 4/10\n",
            "54000/54000 [==============================] - 5s 92us/step - loss: 0.0544 - accuracy: 0.9825 - val_loss: 0.0856 - val_accuracy: 0.9752\n",
            "Epoch 5/10\n",
            "54000/54000 [==============================] - 5s 93us/step - loss: 0.0428 - accuracy: 0.9859 - val_loss: 0.0934 - val_accuracy: 0.9727\n",
            "Epoch 6/10\n",
            "54000/54000 [==============================] - 5s 94us/step - loss: 0.0336 - accuracy: 0.9889 - val_loss: 0.0834 - val_accuracy: 0.9787\n",
            "Epoch 7/10\n",
            "54000/54000 [==============================] - 5s 92us/step - loss: 0.0262 - accuracy: 0.9913 - val_loss: 0.0946 - val_accuracy: 0.9758\n",
            "Epoch 8/10\n",
            "54000/54000 [==============================] - 5s 94us/step - loss: 0.0215 - accuracy: 0.9924 - val_loss: 0.0967 - val_accuracy: 0.9780\n",
            "Epoch 9/10\n",
            "54000/54000 [==============================] - 5s 94us/step - loss: 0.0167 - accuracy: 0.9940 - val_loss: 0.1021 - val_accuracy: 0.9792\n",
            "Epoch 10/10\n",
            "54000/54000 [==============================] - 5s 93us/step - loss: 0.0155 - accuracy: 0.9946 - val_loss: 0.1046 - val_accuracy: 0.9768\n"
          ],
          "name": "stdout"
        },
        {
          "output_type": "display_data",
          "data": {
            "image/png": "[encoded data removed]",
            "text/plain": [
              "<Figure size 432x288 with 1 Axes>"
            ]
          },
          "metadata": {
            "tags": []
          }
        }
      ]
    },
    {
      "cell_type": "markdown",
      "metadata": {
        "id": "o176gKn3yL-O",
        "colab_type": "text"
      },
      "source": [
        "Q6. Mini-batch size & Learning Rate 튜닝"
      ]
    },
    {
      "cell_type": "code",
      "metadata": {
        "id": "achHRPhwHPF3",
        "colab_type": "code",
        "colab": {
          "base_uri": "https://localhost:8080/",
          "height": 406
        },
        "outputId": "7be56cf7-1a2a-482c-e127-349dd72b843b"
      },
      "source": [
        "# mlp for the blobs problem with minibatch gradient descent with varied batch size\n",
        "# 아래의 코드에서 다음 두 개의 파라미터를 조합하여 최고의 모델링 성능을 내고 그 결과를 print()로 출력하십시오.\n",
        "# 튜닝할 파라미터 : batch_size & lr (각각 3가지의 옵션이 있으므로 두 파라미터를 조합할 수 있는 경우의 수는 모두 9가지)\n",
        "# 모델의 성능 평가 기준은 다음의 우선순위에 따라 결정하시오. \n",
        "# 1. Validation Loss가 최소, 2. Accuracy는 최고값에 가까울 것\n",
        "# 9번의 실험 후 최적이라고 생각되는 파라미터 값을 코드에 지정하고 셀을 다시 run하여 최종 결과를 출력하시오.\n",
        "%%time\n",
        "from sklearn.datasets import make_blobs\n",
        "from keras.layers import Dense\n",
        "from keras.models import Sequential\n",
        "from keras.optimizers import SGD\n",
        "from keras.utils import to_categorical\n",
        "from matplotlib import pyplot\n",
        "\n",
        "# prepare train and test dataset\n",
        "def prepare_data():\n",
        "\t# generate 2d classification dataset\n",
        "\tX, y = make_blobs(n_samples=1000, centers=3, n_features=2, cluster_std=2, random_state=2)\n",
        "\t# one hot encode output variable\n",
        "\ty = to_categorical(y)\n",
        "\t# split into train and test\n",
        "\tn_train = 500\n",
        "\ttrainX, testX = X[:n_train, :], X[n_train:, :]\n",
        "\ttrainy, testy = y[:n_train], y[n_train:]\n",
        "\treturn trainX, trainy, testX, testy\n",
        "\n",
        "# fit a model and plot learning curve\n",
        "def fit_model(trainX, trainy, testX, testy, n_batch):\n",
        "\t\n",
        "  # define model\n",
        "\tmodel = Sequential()\n",
        "\tmodel.add(Dense(50, input_dim=2, activation='relu', kernel_initializer='he_uniform'))\n",
        "\tmodel.add(Dense(3, activation='softmax'))\n",
        "\t\n",
        "  # lr의 값을  0.1, 0.01, 0.001 중에서 선택하여 이곳에 지정\n",
        "\topt = SGD(lr=your_lr, momentum=0.9) \n",
        "\tmodel.compile(loss='categorical_crossentropy', optimizer=opt, metrics=['accuracy'])\n",
        "\t# fit model\n",
        "\thistory = model.fit(trainX, trainy, validation_data=(testX, testy), epochs=150, verbose=2, batch_size=n_batch)\n",
        "\tprint('accuracy = ', format(history.history['accuracy'][149],\".3f\"), ' ', 'validation loss = ', format(history.history['val_loss'][149],\".3f\"))\n",
        "  # plot learning curves\n",
        "\tpyplot.plot(history.history['accuracy'], label='train')\n",
        "\tpyplot.plot(history.history['val_loss'], label='test')\n",
        "\tpyplot.title('batch='+str(n_batch), pad=-40)\n",
        "\n",
        "\n",
        "\n",
        "# prepare dataset\n",
        "trainX, trainy, testX, testy = prepare_data()\n",
        "\n",
        "# batch_size의 값을   16, 32, 64 중에서 선택하여 이곳에 지정\n",
        "batch_size = your_batch_size\n",
        "\n",
        "fit_model(trainX, trainy, testX, testy, batch_size)\n",
        "# show learning curves\n",
        "pyplot.show()\n",
        "\n",
        "# 결과를 메모장에 적어놓고 lr과 batch_size를 바꿔가며 최적의 파라미터를 찾아가시오.\n",
        "# 최적의 lr과 batch_size를 선택하여 위의 코드에 적고 Run한 결과룰 출력하여 제출하시오. "
      ],
      "execution_count": 11,
      "outputs": [
        {
          "output_type": "error",
          "ename": "NameError",
          "evalue": "ignored",
          "traceback": [
            "\u001b[0;31m---------------------------------------------------------------------------\u001b[0m",
            "\u001b[0;31mNameError\u001b[0m                                 Traceback (most recent call last)",
            "\u001b[0;32m<ipython-input-11-bd97a1523b67>\u001b[0m in \u001b[0;36m<module>\u001b[0;34m()\u001b[0m\n\u001b[0;32m----> 1\u001b[0;31m \u001b[0mget_ipython\u001b[0m\u001b[0;34m(\u001b[0m\u001b[0;34m)\u001b[0m\u001b[0;34m.\u001b[0m\u001b[0mrun_cell_magic\u001b[0m\u001b[0;34m(\u001b[0m\u001b[0;34m'time'\u001b[0m\u001b[0;34m,\u001b[0m \u001b[0;34m''\u001b[0m\u001b[0;34m,\u001b[0m \u001b[0;34m'from sklearn.datasets import make_blobs\\nfrom keras.layers import Dense\\nfrom keras.models import Sequential\\nfrom keras.optimizers import SGD\\nfrom keras.utils import to_categorical\\nfrom matplotlib import pyplot\\n\\n# prepare train and test dataset\\ndef prepare_data():\\n\\t# generate 2d classification dataset\\n\\tX, y = make_blobs(n_samples=1000, centers=3, n_features=2, cluster_std=2, random_state=2)\\n\\t# one hot encode output variable\\n\\ty = to_categorical(y)\\n\\t# split into train and test\\n\\tn_train = 500\\n\\ttrainX, testX = X[:n_train, :], X[n_train:, :]\\n\\ttrainy, testy = y[:n_train], y[n_train:]\\n\\treturn trainX, trainy, testX, testy\\n\\n# fit a model and plot learning curve\\ndef fit_model(trainX, trainy, testX, testy, n_batch):\\n\\t\\n  # define model\\n\\tmodel = Sequential()\\n\\tmodel.add(Dense(50, input_dim=2, activation=\\'relu\\', kernel_initializer=\\'he_uniform\\'))\\n\\tmodel.add(Dense(3, activation=\\'softmax\\'))\\n\\t\\n  # lr의 값을  0.1, 0.01, 0.001 중에서 선택하여 이곳에 지정\\n\\topt = SGD(lr=your_lr, momentum=0.9) \\n\\tmodel.compile(loss=\\'categorical_crossentropy\\', optimizer=opt, metrics=[\\'accuracy\\'])\\n\\t# fit model\\n\\thistory = model.fit(trainX, trainy, validation_data=(testX, testy), epochs=150, verbose=2, batch_size=n_batch)\\n\\tprint(\\'accuracy = \\', format(history.history[\\'accuracy\\'][149],\".3f\"), \\' \\', \\...\n\u001b[0m",
            "\u001b[0;32m/usr/local/lib/python3.6/dist-packages/IPython/core/interactiveshell.py\u001b[0m in \u001b[0;36mrun_cell_magic\u001b[0;34m(self, magic_name, line, cell)\u001b[0m\n\u001b[1;32m   2115\u001b[0m             \u001b[0mmagic_arg_s\u001b[0m \u001b[0;34m=\u001b[0m \u001b[0mself\u001b[0m\u001b[0;34m.\u001b[0m\u001b[0mvar_expand\u001b[0m\u001b[0;34m(\u001b[0m\u001b[0mline\u001b[0m\u001b[0;34m,\u001b[0m \u001b[0mstack_depth\u001b[0m\u001b[0;34m)\u001b[0m\u001b[0;34m\u001b[0m\u001b[0;34m\u001b[0m\u001b[0m\n\u001b[1;32m   2116\u001b[0m             \u001b[0;32mwith\u001b[0m \u001b[0mself\u001b[0m\u001b[0;34m.\u001b[0m\u001b[0mbuiltin_trap\u001b[0m\u001b[0;34m:\u001b[0m\u001b[0;34m\u001b[0m\u001b[0;34m\u001b[0m\u001b[0m\n\u001b[0;32m-> 2117\u001b[0;31m                 \u001b[0mresult\u001b[0m \u001b[0;34m=\u001b[0m \u001b[0mfn\u001b[0m\u001b[0;34m(\u001b[0m\u001b[0mmagic_arg_s\u001b[0m\u001b[0;34m,\u001b[0m \u001b[0mcell\u001b[0m\u001b[0;34m)\u001b[0m\u001b[0;34m\u001b[0m\u001b[0;34m\u001b[0m\u001b[0m\n\u001b[0m\u001b[1;32m   2118\u001b[0m             \u001b[0;32mreturn\u001b[0m \u001b[0mresult\u001b[0m\u001b[0;34m\u001b[0m\u001b[0;34m\u001b[0m\u001b[0m\n\u001b[1;32m   2119\u001b[0m \u001b[0;34m\u001b[0m\u001b[0m\n",
            "\u001b[0;32m<decorator-gen-60>\u001b[0m in \u001b[0;36mtime\u001b[0;34m(self, line, cell, local_ns)\u001b[0m\n",
            "\u001b[0;32m/usr/local/lib/python3.6/dist-packages/IPython/core/magic.py\u001b[0m in \u001b[0;36m<lambda>\u001b[0;34m(f, *a, **k)\u001b[0m\n\u001b[1;32m    186\u001b[0m     \u001b[0;31m# but it's overkill for just that one bit of state.\u001b[0m\u001b[0;34m\u001b[0m\u001b[0;34m\u001b[0m\u001b[0;34m\u001b[0m\u001b[0m\n\u001b[1;32m    187\u001b[0m     \u001b[0;32mdef\u001b[0m \u001b[0mmagic_deco\u001b[0m\u001b[0;34m(\u001b[0m\u001b[0marg\u001b[0m\u001b[0;34m)\u001b[0m\u001b[0;34m:\u001b[0m\u001b[0;34m\u001b[0m\u001b[0;34m\u001b[0m\u001b[0m\n\u001b[0;32m--> 188\u001b[0;31m         \u001b[0mcall\u001b[0m \u001b[0;34m=\u001b[0m \u001b[0;32mlambda\u001b[0m \u001b[0mf\u001b[0m\u001b[0;34m,\u001b[0m \u001b[0;34m*\u001b[0m\u001b[0ma\u001b[0m\u001b[0;34m,\u001b[0m \u001b[0;34m**\u001b[0m\u001b[0mk\u001b[0m\u001b[0;34m:\u001b[0m \u001b[0mf\u001b[0m\u001b[0;34m(\u001b[0m\u001b[0;34m*\u001b[0m\u001b[0ma\u001b[0m\u001b[0;34m,\u001b[0m \u001b[0;34m**\u001b[0m\u001b[0mk\u001b[0m\u001b[0;34m)\u001b[0m\u001b[0;34m\u001b[0m\u001b[0;34m\u001b[0m\u001b[0m\n\u001b[0m\u001b[1;32m    189\u001b[0m \u001b[0;34m\u001b[0m\u001b[0m\n\u001b[1;32m    190\u001b[0m         \u001b[0;32mif\u001b[0m \u001b[0mcallable\u001b[0m\u001b[0;34m(\u001b[0m\u001b[0marg\u001b[0m\u001b[0;34m)\u001b[0m\u001b[0;34m:\u001b[0m\u001b[0;34m\u001b[0m\u001b[0;34m\u001b[0m\u001b[0m\n",
            "\u001b[0;32m/usr/local/lib/python3.6/dist-packages/IPython/core/magics/execution.py\u001b[0m in \u001b[0;36mtime\u001b[0;34m(self, line, cell, local_ns)\u001b[0m\n\u001b[1;32m   1191\u001b[0m         \u001b[0;32melse\u001b[0m\u001b[0;34m:\u001b[0m\u001b[0;34m\u001b[0m\u001b[0;34m\u001b[0m\u001b[0m\n\u001b[1;32m   1192\u001b[0m             \u001b[0mst\u001b[0m \u001b[0;34m=\u001b[0m \u001b[0mclock2\u001b[0m\u001b[0;34m(\u001b[0m\u001b[0;34m)\u001b[0m\u001b[0;34m\u001b[0m\u001b[0;34m\u001b[0m\u001b[0m\n\u001b[0;32m-> 1193\u001b[0;31m             \u001b[0mexec\u001b[0m\u001b[0;34m(\u001b[0m\u001b[0mcode\u001b[0m\u001b[0;34m,\u001b[0m \u001b[0mglob\u001b[0m\u001b[0;34m,\u001b[0m \u001b[0mlocal_ns\u001b[0m\u001b[0;34m)\u001b[0m\u001b[0;34m\u001b[0m\u001b[0;34m\u001b[0m\u001b[0m\n\u001b[0m\u001b[1;32m   1194\u001b[0m             \u001b[0mend\u001b[0m \u001b[0;34m=\u001b[0m \u001b[0mclock2\u001b[0m\u001b[0;34m(\u001b[0m\u001b[0;34m)\u001b[0m\u001b[0;34m\u001b[0m\u001b[0;34m\u001b[0m\u001b[0m\n\u001b[1;32m   1195\u001b[0m             \u001b[0mout\u001b[0m \u001b[0;34m=\u001b[0m \u001b[0;32mNone\u001b[0m\u001b[0;34m\u001b[0m\u001b[0;34m\u001b[0m\u001b[0m\n",
            "\u001b[0;32m<timed exec>\u001b[0m in \u001b[0;36m<module>\u001b[0;34m()\u001b[0m\n",
            "\u001b[0;31mNameError\u001b[0m: name 'your_batch_size' is not defined"
          ]
        }
      ]
    },
    {
      "cell_type": "markdown",
      "metadata": {
        "id": "U7B16qvfgODH",
        "colab_type": "text"
      },
      "source": [
        "Q7 . RNN 문장 생성기\n"
      ]
    },
    {
      "cell_type": "code",
      "metadata": {
        "id": "_2DqrQtH9Itp",
        "colab_type": "code",
        "colab": {
          "base_uri": "https://localhost:8080/",
          "height": 1000
        },
        "outputId": "cddb33c3-141f-4492-ba94-0954970ee478"
      },
      "source": [
        "# 다음의 코드를 완성하시오\n",
        "from tensorflow.keras.preprocessing.text import Tokenizer\n",
        "from tensorflow.keras.preprocessing.sequence import pad_sequences\n",
        "import numpy as np\n",
        "from tensorflow.keras.utils import to_categorical\n",
        "\n",
        "text=\"\"\"특히 최근 수도권에서는 교회 소모임 참석자에 이어 이들 가족과 지인으로 번지는 2차 감염 사례가 증가하고 있습니다. 중앙재난안전대책본부는 오늘까지 수도권 교회와 관련한 코로나19 확진자는 총 63명이라고 밝혔으며  2차 감염자는 33명 이라고 전했습니다. \"\"\"\n",
        "\n",
        "\n",
        "t = Tokenizer()\n",
        "t.fit_on_texts([text])\n",
        "vocab_size = len(t.word_index) + 1\n",
        "print('단어 집합의 크기 : %d' % vocab_size)\n",
        "\n",
        "\n",
        "print(t.word_index)\n",
        "\n",
        "sequences = list()\n",
        "for line in text.split('\\n'): \n",
        "    encoded = t.texts_to_sequences([line])[0]\n",
        "    for i in range(1, len(encoded)):\n",
        "        sequence = encoded[:i+1]\n",
        "        sequences.append(sequence)\n",
        "\n",
        "print('학습에 사용할 샘플의 개수: %d' % len(sequences))\n",
        "\n",
        "\n",
        "max_len=max(len(l) for l in sequences) \n",
        "\n",
        "sequences = pad_sequences(sequences, maxlen=max_len, padding='pre')\n",
        "\n",
        "sequences = np.array(sequences)\n",
        "X = sequences[:,:-1]\n",
        "y = sequences[:,-1]\n",
        "\n",
        "\n",
        "from tensorflow.keras.models import Sequential\n",
        "from tensorflow.keras.layers import Embedding, Dense, SimpleRNN\n",
        "\n",
        "model = Sequential()\n",
        "model.add(Embedding(vocab_size, 10, input_length=max_len-1))  \n",
        "model.add(SimpleRNN(32))\n",
        "model.add(Dense(vocab_size, activation='softmax'))\n",
        "model.compile(loss='sparse_categorical_crossentropy', optimizer='adam', metrics=['accuracy'])\n",
        "model.fit(X, y, epochs=120, verbose=2)\n",
        "\n",
        "# 이 블록에서 yoou_code_here 부분을 완성하시오\n",
        "def sentence_generation(model, t, current_word, n): # model = 모델, t = 토크나이저, current_word = 현재 단어, n = 반복할 횟수\n",
        "    init_word = current_word # 처음 들어온 단어도 마지막에 같이 출력하기위해 저장\n",
        "    sentence = ''\n",
        "    for _ in range(n): # n번 반복\n",
        "        encoded = t.texts_to_sequences([current_word])[0] # 현재 단어에 대한 정수 인코딩\n",
        "        encoded = pad_sequences([encoded], maxlen=30, padding='pre') # 데이터에 대한 패딩\n",
        "        result = np.argmax(model.predict(encoded), axis=-1)\n",
        "        for word, index in t.word_index.items(): \n",
        "            if index == result: # 만약 예측한 단어의 인덱스 값이 동일한 단어가 있다면\n",
        "                break # 해당 단어가 예측 단어이므로 break\n",
        "        current_word = your_code_here # 현재 단어 + ' ' + 예측한 단어를 current_word로 저장\n",
        "        sentence = your_code_here  # 예측한 단어를 sentence에 append\n",
        "     \n",
        "    sentence = your_code_here # 초기의 텍스트와 for loop에서 생성된 텍스트를 concatenate\n",
        "    return sentence\n",
        "\n",
        "print(sentence_generation(model, t, '특히', 10))"
      ],
      "execution_count": 12,
      "outputs": [
        {
          "output_type": "stream",
          "text": [
            "단어 집합의 크기 : 31\n",
            "{'2차': 1, '특히': 2, '최근': 3, '수도권에서는': 4, '교회': 5, '소모임': 6, '참석자에': 7, '이어': 8, '이들': 9, '가족과': 10, '지인으로': 11, '번지는': 12, '감염': 13, '사례가': 14, '증가하고': 15, '있습니다': 16, '중앙재난안전대책본부는': 17, '오늘까지': 18, '수도권': 19, '교회와': 20, '관련한': 21, '코로나19': 22, '확진자는': 23, '총': 24, '63명이라고': 25, '밝혔으며': 26, '감염자는': 27, '33명': 28, '이라고': 29, '전했습니다': 30}\n",
            "학습에 사용할 샘플의 개수: 30\n",
            "Epoch 1/120\n",
            "1/1 - 0s - loss: 3.4195 - accuracy: 0.0667\n",
            "Epoch 2/120\n",
            "1/1 - 0s - loss: 3.4051 - accuracy: 0.0333\n",
            "Epoch 3/120\n",
            "1/1 - 0s - loss: 3.3913 - accuracy: 0.0667\n",
            "Epoch 4/120\n",
            "1/1 - 0s - loss: 3.3768 - accuracy: 0.0667\n",
            "Epoch 5/120\n",
            "1/1 - 0s - loss: 3.3613 - accuracy: 0.0667\n",
            "Epoch 6/120\n",
            "1/1 - 0s - loss: 3.3448 - accuracy: 0.1667\n",
            "Epoch 7/120\n",
            "1/1 - 0s - loss: 3.3272 - accuracy: 0.2000\n",
            "Epoch 8/120\n",
            "1/1 - 0s - loss: 3.3087 - accuracy: 0.2667\n",
            "Epoch 9/120\n",
            "1/1 - 0s - loss: 3.2894 - accuracy: 0.2667\n",
            "Epoch 10/120\n",
            "1/1 - 0s - loss: 3.2696 - accuracy: 0.3333\n",
            "Epoch 11/120\n",
            "1/1 - 0s - loss: 3.2495 - accuracy: 0.3000\n",
            "Epoch 12/120\n",
            "1/1 - 0s - loss: 3.2295 - accuracy: 0.3000\n",
            "Epoch 13/120\n",
            "1/1 - 0s - loss: 3.2101 - accuracy: 0.2667\n",
            "Epoch 14/120\n",
            "1/1 - 0s - loss: 3.1910 - accuracy: 0.2667\n",
            "Epoch 15/120\n",
            "1/1 - 0s - loss: 3.1716 - accuracy: 0.2333\n",
            "Epoch 16/120\n",
            "1/1 - 0s - loss: 3.1516 - accuracy: 0.2333\n",
            "Epoch 17/120\n",
            "1/1 - 0s - loss: 3.1308 - accuracy: 0.2667\n",
            "Epoch 18/120\n",
            "1/1 - 0s - loss: 3.1091 - accuracy: 0.3000\n",
            "Epoch 19/120\n",
            "1/1 - 0s - loss: 3.0871 - accuracy: 0.3000\n",
            "Epoch 20/120\n",
            "1/1 - 0s - loss: 3.0651 - accuracy: 0.2667\n",
            "Epoch 21/120\n",
            "1/1 - 0s - loss: 3.0433 - accuracy: 0.3000\n",
            "Epoch 22/120\n",
            "1/1 - 0s - loss: 3.0220 - accuracy: 0.2667\n",
            "Epoch 23/120\n",
            "1/1 - 0s - loss: 3.0006 - accuracy: 0.3333\n",
            "Epoch 24/120\n",
            "1/1 - 0s - loss: 2.9790 - accuracy: 0.3333\n",
            "Epoch 25/120\n",
            "1/1 - 0s - loss: 2.9567 - accuracy: 0.4000\n",
            "Epoch 26/120\n",
            "1/1 - 0s - loss: 2.9335 - accuracy: 0.4000\n",
            "Epoch 27/120\n",
            "1/1 - 0s - loss: 2.9095 - accuracy: 0.4000\n",
            "Epoch 28/120\n",
            "1/1 - 0s - loss: 2.8852 - accuracy: 0.4000\n",
            "Epoch 29/120\n",
            "1/1 - 0s - loss: 2.8606 - accuracy: 0.4000\n",
            "Epoch 30/120\n",
            "1/1 - 0s - loss: 2.8362 - accuracy: 0.4000\n",
            "Epoch 31/120\n",
            "1/1 - 0s - loss: 2.8124 - accuracy: 0.3667\n",
            "Epoch 32/120\n",
            "1/1 - 0s - loss: 2.7895 - accuracy: 0.4000\n",
            "Epoch 33/120\n",
            "1/1 - 0s - loss: 2.7671 - accuracy: 0.4333\n",
            "Epoch 34/120\n",
            "1/1 - 0s - loss: 2.7448 - accuracy: 0.4333\n",
            "Epoch 35/120\n",
            "1/1 - 0s - loss: 2.7218 - accuracy: 0.4333\n",
            "Epoch 36/120\n",
            "1/1 - 0s - loss: 2.6978 - accuracy: 0.4667\n",
            "Epoch 37/120\n",
            "1/1 - 0s - loss: 2.6755 - accuracy: 0.3667\n",
            "Epoch 38/120\n",
            "1/1 - 0s - loss: 2.6605 - accuracy: 0.4667\n",
            "Epoch 39/120\n",
            "1/1 - 0s - loss: 2.6277 - accuracy: 0.5000\n",
            "Epoch 40/120\n",
            "1/1 - 0s - loss: 2.6300 - accuracy: 0.4000\n",
            "Epoch 41/120\n",
            "1/1 - 0s - loss: 2.5912 - accuracy: 0.5000\n",
            "Epoch 42/120\n",
            "1/1 - 0s - loss: 2.5916 - accuracy: 0.5333\n",
            "Epoch 43/120\n",
            "1/1 - 0s - loss: 2.5731 - accuracy: 0.5333\n",
            "Epoch 44/120\n",
            "1/1 - 0s - loss: 2.5425 - accuracy: 0.5333\n",
            "Epoch 45/120\n",
            "1/1 - 0s - loss: 2.5129 - accuracy: 0.5667\n",
            "Epoch 46/120\n",
            "1/1 - 0s - loss: 2.4940 - accuracy: 0.5333\n",
            "Epoch 47/120\n",
            "1/1 - 0s - loss: 2.4834 - accuracy: 0.5333\n",
            "Epoch 48/120\n",
            "1/1 - 0s - loss: 2.4644 - accuracy: 0.5333\n",
            "Epoch 49/120\n",
            "1/1 - 0s - loss: 2.4357 - accuracy: 0.5333\n",
            "Epoch 50/120\n",
            "1/1 - 0s - loss: 2.4110 - accuracy: 0.5667\n",
            "Epoch 51/120\n",
            "1/1 - 0s - loss: 2.3922 - accuracy: 0.5667\n",
            "Epoch 52/120\n",
            "1/1 - 0s - loss: 2.3749 - accuracy: 0.6000\n",
            "Epoch 53/120\n",
            "1/1 - 0s - loss: 2.3558 - accuracy: 0.6333\n",
            "Epoch 54/120\n",
            "1/1 - 0s - loss: 2.3339 - accuracy: 0.6333\n",
            "Epoch 55/120\n",
            "1/1 - 0s - loss: 2.3104 - accuracy: 0.6000\n",
            "Epoch 56/120\n",
            "1/1 - 0s - loss: 2.2879 - accuracy: 0.6333\n",
            "Epoch 57/120\n",
            "1/1 - 0s - loss: 2.2685 - accuracy: 0.6333\n",
            "Epoch 58/120\n",
            "1/1 - 0s - loss: 2.2491 - accuracy: 0.6333\n",
            "Epoch 59/120\n",
            "1/1 - 0s - loss: 2.2261 - accuracy: 0.6000\n",
            "Epoch 60/120\n",
            "1/1 - 0s - loss: 2.2035 - accuracy: 0.6667\n",
            "Epoch 61/120\n",
            "1/1 - 0s - loss: 2.1831 - accuracy: 0.7000\n",
            "Epoch 62/120\n",
            "1/1 - 0s - loss: 2.1628 - accuracy: 0.7667\n",
            "Epoch 63/120\n",
            "1/1 - 0s - loss: 2.1417 - accuracy: 0.7000\n",
            "Epoch 64/120\n",
            "1/1 - 0s - loss: 2.1186 - accuracy: 0.7000\n",
            "Epoch 65/120\n",
            "1/1 - 0s - loss: 2.0969 - accuracy: 0.7000\n",
            "Epoch 66/120\n",
            "1/1 - 0s - loss: 2.0787 - accuracy: 0.7000\n",
            "Epoch 67/120\n",
            "1/1 - 0s - loss: 2.0544 - accuracy: 0.7667\n",
            "Epoch 68/120\n",
            "1/1 - 0s - loss: 2.0343 - accuracy: 0.8000\n",
            "Epoch 69/120\n",
            "1/1 - 0s - loss: 2.0130 - accuracy: 0.8333\n",
            "Epoch 70/120\n",
            "1/1 - 0s - loss: 1.9916 - accuracy: 0.7667\n",
            "Epoch 71/120\n",
            "1/1 - 0s - loss: 1.9684 - accuracy: 0.8333\n",
            "Epoch 72/120\n",
            "1/1 - 0s - loss: 1.9511 - accuracy: 0.8000\n",
            "Epoch 73/120\n",
            "1/1 - 0s - loss: 1.9493 - accuracy: 0.7333\n",
            "Epoch 74/120\n",
            "1/1 - 0s - loss: 1.9435 - accuracy: 0.7667\n",
            "Epoch 75/120\n",
            "1/1 - 0s - loss: 1.9301 - accuracy: 0.8000\n",
            "Epoch 76/120\n",
            "1/1 - 0s - loss: 1.8874 - accuracy: 0.8000\n",
            "Epoch 77/120\n",
            "1/1 - 0s - loss: 1.8906 - accuracy: 0.7333\n",
            "Epoch 78/120\n",
            "1/1 - 0s - loss: 1.8428 - accuracy: 0.8000\n",
            "Epoch 79/120\n",
            "1/1 - 0s - loss: 1.8417 - accuracy: 0.8000\n",
            "Epoch 80/120\n",
            "1/1 - 0s - loss: 1.8076 - accuracy: 0.8667\n",
            "Epoch 81/120\n",
            "1/1 - 0s - loss: 1.7988 - accuracy: 0.8000\n",
            "Epoch 82/120\n",
            "1/1 - 0s - loss: 1.7779 - accuracy: 0.8667\n",
            "Epoch 83/120\n",
            "1/1 - 0s - loss: 1.7550 - accuracy: 0.8333\n",
            "Epoch 84/120\n",
            "1/1 - 0s - loss: 1.7398 - accuracy: 0.8667\n",
            "Epoch 85/120\n",
            "1/1 - 0s - loss: 1.7184 - accuracy: 0.8333\n",
            "Epoch 86/120\n",
            "1/1 - 0s - loss: 1.7015 - accuracy: 0.9000\n",
            "Epoch 87/120\n",
            "1/1 - 0s - loss: 1.6841 - accuracy: 0.8333\n",
            "Epoch 88/120\n",
            "1/1 - 0s - loss: 1.6664 - accuracy: 0.8333\n",
            "Epoch 89/120\n",
            "1/1 - 0s - loss: 1.6492 - accuracy: 0.8667\n",
            "Epoch 90/120\n",
            "1/1 - 0s - loss: 1.6295 - accuracy: 0.8333\n",
            "Epoch 91/120\n",
            "1/1 - 0s - loss: 1.6162 - accuracy: 0.8667\n",
            "Epoch 92/120\n",
            "1/1 - 0s - loss: 1.5941 - accuracy: 0.9000\n",
            "Epoch 93/120\n",
            "1/1 - 0s - loss: 1.5791 - accuracy: 0.9000\n",
            "Epoch 94/120\n",
            "1/1 - 0s - loss: 1.5640 - accuracy: 0.8333\n",
            "Epoch 95/120\n",
            "1/1 - 0s - loss: 1.5457 - accuracy: 0.8333\n",
            "Epoch 96/120\n",
            "1/1 - 0s - loss: 1.5264 - accuracy: 0.9333\n",
            "Epoch 97/120\n",
            "1/1 - 0s - loss: 1.5140 - accuracy: 0.9000\n",
            "Epoch 98/120\n",
            "1/1 - 0s - loss: 1.4941 - accuracy: 0.9000\n",
            "Epoch 99/120\n",
            "1/1 - 0s - loss: 1.4784 - accuracy: 0.8667\n",
            "Epoch 100/120\n",
            "1/1 - 0s - loss: 1.4628 - accuracy: 0.8667\n",
            "Epoch 101/120\n",
            "1/1 - 0s - loss: 1.4451 - accuracy: 0.9000\n",
            "Epoch 102/120\n",
            "1/1 - 0s - loss: 1.4299 - accuracy: 0.9333\n",
            "Epoch 103/120\n",
            "1/1 - 0s - loss: 1.4129 - accuracy: 0.9333\n",
            "Epoch 104/120\n",
            "1/1 - 0s - loss: 1.3979 - accuracy: 0.9000\n",
            "Epoch 105/120\n",
            "1/1 - 0s - loss: 1.3812 - accuracy: 0.9000\n",
            "Epoch 106/120\n",
            "1/1 - 0s - loss: 1.3650 - accuracy: 0.9333\n",
            "Epoch 107/120\n",
            "1/1 - 0s - loss: 1.3500 - accuracy: 0.9333\n",
            "Epoch 108/120\n",
            "1/1 - 0s - loss: 1.3334 - accuracy: 0.9333\n",
            "Epoch 109/120\n",
            "1/1 - 0s - loss: 1.3196 - accuracy: 0.9667\n",
            "Epoch 110/120\n",
            "1/1 - 0s - loss: 1.3073 - accuracy: 0.9333\n",
            "Epoch 111/120\n",
            "1/1 - 0s - loss: 1.3069 - accuracy: 0.9667\n",
            "Epoch 112/120\n",
            "1/1 - 0s - loss: 1.3442 - accuracy: 0.8667\n",
            "Epoch 113/120\n",
            "1/1 - 0s - loss: 1.3082 - accuracy: 0.9000\n",
            "Epoch 114/120\n",
            "1/1 - 0s - loss: 1.2827 - accuracy: 0.8667\n",
            "Epoch 115/120\n",
            "1/1 - 0s - loss: 1.2830 - accuracy: 0.9000\n",
            "Epoch 116/120\n",
            "1/1 - 0s - loss: 1.2322 - accuracy: 0.9000\n",
            "Epoch 117/120\n",
            "1/1 - 0s - loss: 1.2454 - accuracy: 0.8667\n",
            "Epoch 118/120\n",
            "1/1 - 0s - loss: 1.2174 - accuracy: 0.9333\n",
            "Epoch 119/120\n",
            "1/1 - 0s - loss: 1.1900 - accuracy: 0.9333\n",
            "Epoch 120/120\n",
            "1/1 - 0s - loss: 1.1830 - accuracy: 0.9333\n"
          ],
          "name": "stdout"
        },
        {
          "output_type": "error",
          "ename": "NameError",
          "evalue": "ignored",
          "traceback": [
            "\u001b[0;31m---------------------------------------------------------------------------\u001b[0m",
            "\u001b[0;31mNameError\u001b[0m                                 Traceback (most recent call last)",
            "\u001b[0;32m<ipython-input-12-2f17b89531c2>\u001b[0m in \u001b[0;36m<module>\u001b[0;34m()\u001b[0m\n\u001b[1;32m     62\u001b[0m     \u001b[0;32mreturn\u001b[0m \u001b[0msentence\u001b[0m\u001b[0;34m\u001b[0m\u001b[0;34m\u001b[0m\u001b[0m\n\u001b[1;32m     63\u001b[0m \u001b[0;34m\u001b[0m\u001b[0m\n\u001b[0;32m---> 64\u001b[0;31m \u001b[0mprint\u001b[0m\u001b[0;34m(\u001b[0m\u001b[0msentence_generation\u001b[0m\u001b[0;34m(\u001b[0m\u001b[0mmodel\u001b[0m\u001b[0;34m,\u001b[0m \u001b[0mt\u001b[0m\u001b[0;34m,\u001b[0m \u001b[0;34m'특히'\u001b[0m\u001b[0;34m,\u001b[0m \u001b[0;36m10\u001b[0m\u001b[0;34m)\u001b[0m\u001b[0;34m)\u001b[0m\u001b[0;34m\u001b[0m\u001b[0;34m\u001b[0m\u001b[0m\n\u001b[0m",
            "\u001b[0;32m<ipython-input-12-2f17b89531c2>\u001b[0m in \u001b[0;36msentence_generation\u001b[0;34m(model, t, current_word, n)\u001b[0m\n\u001b[1;32m     56\u001b[0m             \u001b[0;32mif\u001b[0m \u001b[0mindex\u001b[0m \u001b[0;34m==\u001b[0m \u001b[0mresult\u001b[0m\u001b[0;34m:\u001b[0m \u001b[0;31m# 만약 예측한 단어의 인덱스 값이 동일한 단어가 있다면\u001b[0m\u001b[0;34m\u001b[0m\u001b[0;34m\u001b[0m\u001b[0m\n\u001b[1;32m     57\u001b[0m                 \u001b[0;32mbreak\u001b[0m \u001b[0;31m# 해당 단어가 예측 단어이므로 break\u001b[0m\u001b[0;34m\u001b[0m\u001b[0;34m\u001b[0m\u001b[0m\n\u001b[0;32m---> 58\u001b[0;31m         \u001b[0mcurrent_word\u001b[0m \u001b[0;34m=\u001b[0m \u001b[0myour_code_here\u001b[0m \u001b[0;31m# 현재 단어 + ' ' + 예측한 단어를 current_word로 저장\u001b[0m\u001b[0;34m\u001b[0m\u001b[0;34m\u001b[0m\u001b[0m\n\u001b[0m\u001b[1;32m     59\u001b[0m         \u001b[0msentence\u001b[0m \u001b[0;34m=\u001b[0m \u001b[0myour_code_here\u001b[0m  \u001b[0;31m# 예측한 단어를 sentence에 append\u001b[0m\u001b[0;34m\u001b[0m\u001b[0;34m\u001b[0m\u001b[0m\n\u001b[1;32m     60\u001b[0m \u001b[0;34m\u001b[0m\u001b[0m\n",
            "\u001b[0;31mNameError\u001b[0m: name 'your_code_here' is not defined"
          ]
        }
      ]
    },
    {
      "cell_type": "markdown",
      "metadata": {
        "id": "Q_ZqqZcvN1PQ",
        "colab_type": "text"
      },
      "source": [
        "## 20년1학기-기말고사-yourname.ipynb로 다운로드한 후 제출하십시오.\n",
        "수고하였습니다!"
      ]
    }
  ]
}